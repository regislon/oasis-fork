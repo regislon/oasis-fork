{
 "cells": [
  {
   "cell_type": "markdown",
   "metadata": {},
   "source": [
    "## Activity scheduling simulator - Update: 23.02.23\n",
    "\n",
    "This notebook walks through the implementation of the code. The simulator takes as input a schedule from the MTMC (the raw data is processed into a pandas dataframe with the function ```preprocess_data``` from the ```preprocessing``` module), a travel time matrix for the visited locations and a given mode, computed using the Google Directions API, and a distance matrix derived from the travel time matrix (with the function ``compute_distances_from_tmat`` from the ``data_utils`` module.\n",
    "\n",
    "The current specification of the utility function and constraints correspond to the set up described [here](https://www.sciencedirect.com/science/article/pii/S1755534522000124?via%3Dihub). You can change the utility function, add or remove constraints, directly in the ``model`` script. \n",
    "\n",
    "NB: As the main function of the program, only optimize_schedule is presented in detail. The code for all the other auxiliary functions is available in the respective modules (```preprocessing.py``` and ```data_utils.py```). "
   ]
  },
  {
   "cell_type": "markdown",
   "metadata": {},
   "source": [
    "### Required packages\n",
    "\n",
    "This notebook requires the docplex package with a valid CPLEX license to run: \n",
    "https://pypi.org/project/docplex/ and https://www.ibm.com/support/knowledgecenter/SSSA5P_12.7.1/ilog.odms.cplex.help/CPLEX/GettingStarted/topics/set_up/Python_setup.html"
   ]
  },
  {
   "cell_type": "code",
   "execution_count": 1,
   "metadata": {
    "ExecuteTime": {
     "end_time": "2023-02-23T22:50:31.517914Z",
     "start_time": "2023-02-23T22:50:29.575167Z"
    }
   },
   "outputs": [],
   "source": [
    "import pandas as pd\n",
    "import numpy as np\n",
    "import matplotlib.pyplot as plt\n",
    "import joblib\n",
    "\n",
    "from model import optimize_schedule\n",
    "\n",
    "pd.options.display.float_format = '{:.3g}'.format"
   ]
  },
  {
   "cell_type": "markdown",
   "metadata": {},
   "source": [
    "### Input data and preprocessing\n",
    "\n",
    "The required inputs for each household (or individual) are a dataframe containing information on the activities to be scheduled:\n",
    "\n",
    "* an **act_id** and **act_label**, corresponding to the activity type (mandatory)\n",
    "* a unique **label** for the model, \n",
    "* **start, end time** and **duration**, in hours (optional)\n",
    "* **feasible start/end times**, in hours (optional)\n",
    "* **location**, as a tuple (lon, lat) and a **location id** for the model (mandatory -- NB: if multiple locations are possible you should duplicate the row, change the location and label of the activity, but keep the group the same. In addition, each location should exist as a key in the travel time and distance dictionary) \n",
    "* **mode**, (mandatory -- NB: same as above)\n",
    "* **group**, there should be one group per duplicates of activities (mandatory)\n",
    "\n",
    "An example schedule is provided below for an individual \"Claire\". The schedule comes from the Swiss mobility and Transport microcensus."
   ]
  },
  {
   "cell_type": "code",
   "execution_count": 2,
   "metadata": {
    "ExecuteTime": {
     "end_time": "2023-02-23T22:50:31.526192Z",
     "start_time": "2023-02-23T22:50:31.521069Z"
    }
   },
   "outputs": [],
   "source": [
    "sched, travel_times, distances = joblib.load('data/claire.joblib')"
   ]
  },
  {
   "cell_type": "code",
   "execution_count": 3,
   "metadata": {
    "ExecuteTime": {
     "end_time": "2023-02-23T22:50:31.547056Z",
     "start_time": "2023-02-23T22:50:31.527909Z"
    }
   },
   "outputs": [
    {
     "data": {
      "text/html": [
       "<div>\n",
       "<style scoped>\n",
       "    .dataframe tbody tr th:only-of-type {\n",
       "        vertical-align: middle;\n",
       "    }\n",
       "\n",
       "    .dataframe tbody tr th {\n",
       "        vertical-align: top;\n",
       "    }\n",
       "\n",
       "    .dataframe thead th {\n",
       "        text-align: right;\n",
       "    }\n",
       "</style>\n",
       "<table border=\"1\" class=\"dataframe\">\n",
       "  <thead>\n",
       "    <tr style=\"text-align: right;\">\n",
       "      <th></th>\n",
       "      <th>act_id</th>\n",
       "      <th>act_label</th>\n",
       "      <th>label</th>\n",
       "      <th>start_time</th>\n",
       "      <th>end_time</th>\n",
       "      <th>duration</th>\n",
       "      <th>feasible_start</th>\n",
       "      <th>feasible_end</th>\n",
       "      <th>location</th>\n",
       "      <th>loc_id</th>\n",
       "      <th>mode</th>\n",
       "      <th>group</th>\n",
       "    </tr>\n",
       "  </thead>\n",
       "  <tbody>\n",
       "    <tr>\n",
       "      <th>0</th>\n",
       "      <td>1</td>\n",
       "      <td>home</td>\n",
       "      <td>dawn</td>\n",
       "      <td>0</td>\n",
       "      <td>9.5</td>\n",
       "      <td>9.5</td>\n",
       "      <td>0</td>\n",
       "      <td>24</td>\n",
       "      <td>(46.5356, 6.60019)</td>\n",
       "      <td>1</td>\n",
       "      <td>driving</td>\n",
       "      <td>dawn</td>\n",
       "    </tr>\n",
       "    <tr>\n",
       "      <th>1</th>\n",
       "      <td>2</td>\n",
       "      <td>work</td>\n",
       "      <td>work1</td>\n",
       "      <td>9.53</td>\n",
       "      <td>13.5</td>\n",
       "      <td>3.97</td>\n",
       "      <td>5</td>\n",
       "      <td>23</td>\n",
       "      <td>(46.5355, 6.59967)</td>\n",
       "      <td>0</td>\n",
       "      <td>driving</td>\n",
       "      <td>work</td>\n",
       "    </tr>\n",
       "    <tr>\n",
       "      <th>2</th>\n",
       "      <td>1</td>\n",
       "      <td>home</td>\n",
       "      <td>home</td>\n",
       "      <td>13.5</td>\n",
       "      <td>15.2</td>\n",
       "      <td>1.63</td>\n",
       "      <td>0</td>\n",
       "      <td>24</td>\n",
       "      <td>(46.5356, 6.60019)</td>\n",
       "      <td>1</td>\n",
       "      <td>driving</td>\n",
       "      <td>home</td>\n",
       "    </tr>\n",
       "    <tr>\n",
       "      <th>3</th>\n",
       "      <td>2</td>\n",
       "      <td>work</td>\n",
       "      <td>work2</td>\n",
       "      <td>15.2</td>\n",
       "      <td>20</td>\n",
       "      <td>4.8</td>\n",
       "      <td>5</td>\n",
       "      <td>23</td>\n",
       "      <td>(46.5355, 6.59967)</td>\n",
       "      <td>0</td>\n",
       "      <td>driving</td>\n",
       "      <td>work</td>\n",
       "    </tr>\n",
       "    <tr>\n",
       "      <th>4</th>\n",
       "      <td>8</td>\n",
       "      <td>leisure</td>\n",
       "      <td>leisure</td>\n",
       "      <td>20.5</td>\n",
       "      <td>20.5</td>\n",
       "      <td>0</td>\n",
       "      <td>0</td>\n",
       "      <td>24</td>\n",
       "      <td>(46.5355, 6.59967)</td>\n",
       "      <td>0</td>\n",
       "      <td>driving</td>\n",
       "      <td>leisure</td>\n",
       "    </tr>\n",
       "    <tr>\n",
       "      <th>5</th>\n",
       "      <td>1</td>\n",
       "      <td>home</td>\n",
       "      <td>dusk</td>\n",
       "      <td>20.5</td>\n",
       "      <td>24</td>\n",
       "      <td>3.5</td>\n",
       "      <td>0</td>\n",
       "      <td>24</td>\n",
       "      <td>(46.5356, 6.60019)</td>\n",
       "      <td>1</td>\n",
       "      <td>driving</td>\n",
       "      <td>dusk</td>\n",
       "    </tr>\n",
       "  </tbody>\n",
       "</table>\n",
       "</div>"
      ],
      "text/plain": [
       "   act_id act_label    label  start_time  end_time  duration  feasible_start  \\\n",
       "0       1      home     dawn           0       9.5       9.5               0   \n",
       "1       2      work    work1        9.53      13.5      3.97               5   \n",
       "2       1      home     home        13.5      15.2      1.63               0   \n",
       "3       2      work    work2        15.2        20       4.8               5   \n",
       "4       8   leisure  leisure        20.5      20.5         0               0   \n",
       "5       1      home     dusk        20.5        24       3.5               0   \n",
       "\n",
       "   feasible_end            location  loc_id     mode    group  \n",
       "0            24  (46.5356, 6.60019)       1  driving     dawn  \n",
       "1            23  (46.5355, 6.59967)       0  driving     work  \n",
       "2            24  (46.5356, 6.60019)       1  driving     home  \n",
       "3            23  (46.5355, 6.59967)       0  driving     work  \n",
       "4            24  (46.5355, 6.59967)       0  driving  leisure  \n",
       "5            24  (46.5356, 6.60019)       1  driving     dusk  "
      ]
     },
     "execution_count": 3,
     "metadata": {},
     "output_type": "execute_result"
    }
   ],
   "source": [
    "sched"
   ]
  },
  {
   "cell_type": "markdown",
   "metadata": {},
   "source": [
    "The travel time matrix is a nested dictionary \n",
    "```{mode: {origin_location: {destination_location: time}}```.\n",
    "\n",
    "The time is in hours. "
   ]
  },
  {
   "cell_type": "code",
   "execution_count": 4,
   "metadata": {
    "ExecuteTime": {
     "end_time": "2023-02-23T22:50:31.555597Z",
     "start_time": "2023-02-23T22:50:31.550501Z"
    }
   },
   "outputs": [
    {
     "data": {
      "text/plain": [
       "{'driving': {(46.5356, 6.60019): {(46.5356, 6.60019): 0,\n",
       "   (46.5355, 6.59967): 0.0002777777777777778},\n",
       "  (46.5355, 6.59967): {(46.5356, 6.60019): 0.0002777777777777778,\n",
       "   (46.5355, 6.59967): 0}}}"
      ]
     },
     "execution_count": 4,
     "metadata": {},
     "output_type": "execute_result"
    }
   ],
   "source": [
    "travel_times"
   ]
  },
  {
   "cell_type": "markdown",
   "metadata": {},
   "source": [
    "The distance matrix is nested dictionary ``{origin_location: {destination_location: distance}}``."
   ]
  },
  {
   "cell_type": "code",
   "execution_count": 5,
   "metadata": {
    "ExecuteTime": {
     "end_time": "2023-02-23T22:50:32.354750Z",
     "start_time": "2023-02-23T22:50:32.350061Z"
    }
   },
   "outputs": [
    {
     "data": {
      "text/plain": [
       "{(46.5356, 6.60019): {(46.5356, 6.60019): 0.0,\n",
       "  (46.5355, 6.59967): 0.04141042616717804},\n",
       " (46.5355, 6.59967): {(46.5356, 6.60019): 0.04141042616717804,\n",
       "  (46.5355, 6.59967): 0.0}}"
      ]
     },
     "execution_count": 5,
     "metadata": {},
     "output_type": "execute_result"
    }
   ],
   "source": [
    "distances"
   ]
  },
  {
   "cell_type": "markdown",
   "metadata": {},
   "source": [
    "### Optimizing schedules\n",
    "\n",
    "This section presents the implementation of the optimization model (see technical report). The full code is provided in ```model.py```.\n",
    "\n",
    "```python\n",
    "optimize_schedule(df = None, travel_times = None, distances = None, n_iter = 1, plot_every = 10, mtmc = True, parameters = None, preferences = None, var = 1, deterministic = False, plot_mode = False, verbose = False):```\n",
    "\n",
    "The function takes as input:\n",
    "* **df**: the dataframe containing the desired schedule (processed data)\n",
    "* **travel_times**: the dictionary containing the travel times to the visited locations (processed data)\n",
    "* **distances**: the dictionary containing the distances of the visited locations (processed data)\n",
    "* **n_iter**: an iteration counter, useful if simulation is performed multiple times\n",
    "* **plot_every**: counter for plot display - used mainly to avoid displaying every generated schedules for large numbers of iterations\n",
    "* **mtmc**: for now, boolean variable that indicates if the data source is the Swiss microcensus. This was done to disable some features and constraints (e.g. duplicate activities) given the data availability. Will probably be modified or removed. \n",
    "* **parameters**: dictionary containing values for all the parameters in the model. A default set is instantiated within the function. Use the ``create_params`` function in the ``data_utils`` module to create a dictionary of parameters from a Biogeme results file.\n",
    "* **preferences**: dictionary containing values for all the preferences in the model (desired times and durations). If this is not provided, the model will assume that the realized start time and duration in the given schedule are the desired times.\n",
    "* **deterministic**: boolean set to True if we are solving the problem deterministically for a given set of parameters (i.e. EV distributed term in the utility function is 0). This is ony used to compute the likelihood function for the estimation of parameters. For all other applications this should be set to False.\n",
    "* **plot_mode**: boolean set to True if a graph with the mode choice should be output (experimental). Default is False. \n",
    "\n",
    "\n",
    "A **time period** argument could be added to the input, for now I am using 24h by default.\n",
    "\n",
    "The following model components will be presented in this section: the *decision variables*, the *error term structure*, and the *output*.\n",
    "\n",
    "The model is instantiated as a CPLEX Model object: \n",
    "```python\n",
    "m = Model()```"
   ]
  },
  {
   "cell_type": "markdown",
   "metadata": {},
   "source": [
    "#### 1. Decision variables \n",
    "\n",
    "Following the technical report, the decision variables are, for each activity $i$ and individual $n$: \n",
    "* w<sub>i</sub>: boolean variable for activity participation (1 if activity $i$ is chosen)\n",
    "* x<sub>i</sub>: *continuous* variable for start time, with lower bound set to 0\n",
    "* d<sub>i</sub>: *continuous* variable for duration, with lower bound set to 0\n",
    "* z<sub>ij</sub>: boolean variable for activity succession between $i$ and $j$ (1 if activity $j$follows activity $i$)\n",
    "* tt<sub>ij</sub>: *continuous* variable for travel time. This is not actually a decision variable in the mathematical formulation, but it is included as such in the model for simplicity. Its values are constrained to be equal to the input travel time matrix. \n",
    "* md: boolean variable for choice of mode. This variable ensures mode consistency for activity tours (experimental - only car has been included for now, but will be expanded to all private modes)\n",
    "\n",
    "```python\n",
    "x = m.continuous_var_dict(keys, lb = 0, name = 'x')\n",
    "z = m.binary_var_matrix(keys, keys, name = 'z') \n",
    "d = m.continuous_var_dict(keys, lb = 0, name = 'd')\n",
    "w = m.binary_var_dict(keys, name = 'w') \n",
    "tt = m.continuous_var_dict(keys, lb = 0, name = 'tt') \n",
    "md = m.binary_var_dict(keys, name = 'md') \n",
    "```\n",
    "\n",
    "All decision variables are dictionaries. The keys are the activities labels, as defined in the input schedule. \n",
    "The input data (desired timings, locations...) are also converted to dictionaries with the same keys, using the function ```create_dicts```."
   ]
  },
  {
   "cell_type": "markdown",
   "metadata": {},
   "source": [
    "#### 2. Error term structure\n",
    "\n",
    "**UPDATE 29/09/21: the following error structure is still implemented in the code but will be changed in the future.** As defined in the technical report, the error term has an error component structure, with one component per decision variable. Each component follows a $k$-variate normal distribution, with $k$ the possible values that the decision variable can take. For simplification, the error components of the continuous decision variables (start time and duration) have been discretized. At the moment, the correlation structure of the components has not been explored. All the error distributions have a zero mean and an identity covariance matrix. For each activity $i$ and each individual $n$, a value of the error is drawn from these distributions. In the model, this is defined as follows: \n",
    "\n",
    "* **Participation ($w$) and succession ($z$) errors**: 2x1 arrays of random draws from a normal distribution (2 possible values as they are binary decision variables)\n",
    "* **Start time error**: 4x1 array of random draws from normal distribution. The start time has been discretized in 6h time blocks. \n",
    "* **Duration error**: 6x1 array of random draws from normal distribution. The duration has been discretized in 4h time blocks (this should be changed to a non uniform discretization, e.g. (0-30minutes, 30min-1h, 1-3h, 3 and more)\n",
    "* An additional **EV distributed term**: The scale parameter has been set to 1 (and zero mean), making this equivalent to a draw from the Gumbel distribution.\n",
    "\n",
    "At each iteration of the simulation, a new value is drawn for each component and value of the decision variable. *NB: no seed has been fixed yet.*\n",
    "\n",
    "The error terms are included in the objective function by introducing CPLEX [piecewise functions](https://ibmdecisionoptimization.github.io/docplex-doc/mp/docplex.mp.model.html#docplex.mp.model.Model.piecewise) (```error_w```,```error_x```, ```error_d``` and ```error_z``` in the code) that act as indicator variables. These functions have been used instead of actual indicators to avoid adding constraints to the model.\n"
   ]
  },
  {
   "cell_type": "markdown",
   "metadata": {},
   "source": [
    "#### 3. Output\n",
    "\n",
    "If the optimization is successful, the model outputs a CPLEX solution object. A function has been written to convert this result into a pandas dataframe (```cplex_to_df```), to make it easier to plot (using ```plot_schedule``` function). \n",
    "If there is no solution, the model outputs an error message as well as a summary of the encountered conflicts. "
   ]
  },
  {
   "cell_type": "markdown",
   "metadata": {},
   "source": [
    "### Example\n",
    "\n",
    "We can simulate Claires schedules. We perform 100 iterations to see the variations of generated schedules for different values of the error term. \n",
    "\n"
   ]
  },
  {
   "cell_type": "markdown",
   "metadata": {},
   "source": [
    "#### Default parameters\n",
    "\n",
    "This is an example using the default parameters (no paramater or preference file was provided as input, and all of the values were instantiated within the ``optimize_schedule`` function."
   ]
  },
  {
   "cell_type": "code",
   "execution_count": 7,
   "metadata": {
    "ExecuteTime": {
     "end_time": "2023-02-23T22:51:38.425405Z",
     "start_time": "2023-02-23T22:50:35.276131Z"
    },
    "scrolled": false
   },
   "outputs": [
    {
     "name": "stdout",
     "output_type": "stream",
     "text": [
      "Solving time: 61.95 seconds.\n"
     ]
    },
    {
     "data": {
      "image/png": "[encoded data removed]",
      "text/plain": [
       "<Figure size 1440x216 with 1 Axes>"
      ]
     },
     "metadata": {
      "needs_background": "light"
     },
     "output_type": "display_data"
    },
    {
     "data": {
      "image/png": "[encoded data removed]",
      "text/plain": [
       "<Figure size 1440x216 with 1 Axes>"
      ]
     },
     "metadata": {
      "needs_background": "light"
     },
     "output_type": "display_data"
    },
    {
     "data": {
      "image/png": "[encoded data removed]",
      "text/plain": [
       "<Figure size 1440x216 with 1 Axes>"
      ]
     },
     "metadata": {
      "needs_background": "light"
     },
     "output_type": "display_data"
    },
    {
     "data": {
      "image/png": "[encoded data removed]",
      "text/plain": [
       "<Figure size 1440x216 with 1 Axes>"
      ]
     },
     "metadata": {
      "needs_background": "light"
     },
     "output_type": "display_data"
    },
    {
     "data": {
      "image/png": "[encoded data removed]",
      "text/plain": [
       "<Figure size 1440x216 with 1 Axes>"
      ]
     },
     "metadata": {
      "needs_background": "light"
     },
     "output_type": "display_data"
    },
    {
     "data": {
      "image/png": "[encoded data removed]",
      "text/plain": [
       "<Figure size 1440x216 with 1 Axes>"
      ]
     },
     "metadata": {
      "needs_background": "light"
     },
     "output_type": "display_data"
    },
    {
     "data": {
      "image/png": "[encoded data removed]",
      "text/plain": [
       "<Figure size 1440x216 with 1 Axes>"
      ]
     },
     "metadata": {
      "needs_background": "light"
     },
     "output_type": "display_data"
    },
    {
     "data": {
      "image/png": "[encoded data removed]",
      "text/plain": [
       "<Figure size 1440x216 with 1 Axes>"
      ]
     },
     "metadata": {
      "needs_background": "light"
     },
     "output_type": "display_data"
    },
    {
     "data": {
      "image/png": "[encoded data removed]",
      "text/plain": [
       "<Figure size 1440x216 with 1 Axes>"
      ]
     },
     "metadata": {
      "needs_background": "light"
     },
     "output_type": "display_data"
    },
    {
     "data": {
      "image/png": "[encoded data removed]",
      "text/plain": [
       "<Figure size 1440x216 with 1 Axes>"
      ]
     },
     "metadata": {
      "needs_background": "light"
     },
     "output_type": "display_data"
    }
   ],
   "source": [
    "import time\n",
    "\n",
    "start_time = time.time()\n",
    "n = 100\n",
    "n_iter = 0\n",
    "\n",
    "\n",
    "for i in range(n): \n",
    "    sol, fig, _, _ = optimize_schedule(sched, travel_times,distances, n_iter, plot_every=10)\n",
    "    n_iter += 1\n",
    "    \n",
    "print(f\"Solving time: {(time.time() - start_time):.2f} seconds.\")"
   ]
  },
  {
   "cell_type": "markdown",
   "metadata": {},
   "source": [
    "A solution dataframe with the same format as the input can also be produced. See below the result of the last iteration."
   ]
  },
  {
   "cell_type": "code",
   "execution_count": 8,
   "metadata": {
    "ExecuteTime": {
     "end_time": "2023-02-23T22:53:43.726034Z",
     "start_time": "2023-02-23T22:53:43.713071Z"
    }
   },
   "outputs": [
    {
     "data": {
      "text/html": [
       "<div>\n",
       "<style scoped>\n",
       "    .dataframe tbody tr th:only-of-type {\n",
       "        vertical-align: middle;\n",
       "    }\n",
       "\n",
       "    .dataframe tbody tr th {\n",
       "        vertical-align: top;\n",
       "    }\n",
       "\n",
       "    .dataframe thead th {\n",
       "        text-align: right;\n",
       "    }\n",
       "</style>\n",
       "<table border=\"1\" class=\"dataframe\">\n",
       "  <thead>\n",
       "    <tr style=\"text-align: right;\">\n",
       "      <th></th>\n",
       "      <th>act_id</th>\n",
       "      <th>label</th>\n",
       "      <th>start_time</th>\n",
       "      <th>end_time</th>\n",
       "      <th>duration</th>\n",
       "      <th>location</th>\n",
       "      <th>mode</th>\n",
       "      <th>travel_time</th>\n",
       "      <th>car_avail</th>\n",
       "    </tr>\n",
       "  </thead>\n",
       "  <tbody>\n",
       "    <tr>\n",
       "      <th>0</th>\n",
       "      <td>1</td>\n",
       "      <td>dawn</td>\n",
       "      <td>0</td>\n",
       "      <td>8</td>\n",
       "      <td>8</td>\n",
       "      <td>(46.5356, 6.60019)</td>\n",
       "      <td>driving</td>\n",
       "      <td>0</td>\n",
       "      <td>1</td>\n",
       "    </tr>\n",
       "    <tr>\n",
       "      <th>1</th>\n",
       "      <td>1</td>\n",
       "      <td>home</td>\n",
       "      <td>8</td>\n",
       "      <td>15.2</td>\n",
       "      <td>7.2</td>\n",
       "      <td>(46.5356, 6.60019)</td>\n",
       "      <td>driving</td>\n",
       "      <td>0.000278</td>\n",
       "      <td>1</td>\n",
       "    </tr>\n",
       "    <tr>\n",
       "      <th>2</th>\n",
       "      <td>2</td>\n",
       "      <td>work2</td>\n",
       "      <td>15.2</td>\n",
       "      <td>20</td>\n",
       "      <td>4.8</td>\n",
       "      <td>(46.5355, 6.59967)</td>\n",
       "      <td>driving</td>\n",
       "      <td>0.000278</td>\n",
       "      <td>1</td>\n",
       "    </tr>\n",
       "    <tr>\n",
       "      <th>3</th>\n",
       "      <td>1</td>\n",
       "      <td>dusk</td>\n",
       "      <td>20</td>\n",
       "      <td>24</td>\n",
       "      <td>4</td>\n",
       "      <td>(46.5356, 6.60019)</td>\n",
       "      <td>driving</td>\n",
       "      <td>0</td>\n",
       "      <td>1</td>\n",
       "    </tr>\n",
       "  </tbody>\n",
       "</table>\n",
       "</div>"
      ],
      "text/plain": [
       "  act_id  label start_time end_time duration            location     mode  \\\n",
       "0      1   dawn          0        8        8  (46.5356, 6.60019)  driving   \n",
       "1      1   home          8     15.2      7.2  (46.5356, 6.60019)  driving   \n",
       "2      2  work2       15.2       20      4.8  (46.5355, 6.59967)  driving   \n",
       "3      1   dusk         20       24        4  (46.5356, 6.60019)  driving   \n",
       "\n",
       "  travel_time  car_avail  \n",
       "0           0          1  \n",
       "1    0.000278          1  \n",
       "2    0.000278          1  \n",
       "3           0          1  "
      ]
     },
     "execution_count": 8,
     "metadata": {},
     "output_type": "execute_result"
    }
   ],
   "source": [
    "sol"
   ]
  },
  {
   "cell_type": "markdown",
   "metadata": {},
   "source": [
    "#### Using custom parameters\n",
    "\n",
    "We now show how to implement the optimization with estimated parameters. In this case, the parameters (penalties) were estimated using Biogeme. The resulting Biogeme pickle file has been transformed in the correct format (dictionary ``{param: {act_label: value}}``) using the ``create_params`` function implemented in ``data_utils``.\n"
   ]
  },
  {
   "cell_type": "code",
   "execution_count": 14,
   "metadata": {
    "ExecuteTime": {
     "end_time": "2023-02-23T23:10:14.494727Z",
     "start_time": "2023-02-23T23:10:14.488205Z"
    }
   },
   "outputs": [
    {
     "data": {
      "text/plain": [
       "{'p_st_e': {'education': -1.348916580821833,\n",
       "  'leisure': -0.09957705965031084,\n",
       "  'shopping': -1.0071229174045204,\n",
       "  'work': -0.6186578160460335,\n",
       "  'home': 0},\n",
       " 'p_st_l': {'education': -1.6284167159444731,\n",
       "  'leisure': -0.23874851654907706,\n",
       "  'shopping': -0.8583439739453718,\n",
       "  'work': -0.3384943974713237,\n",
       "  'home': 0},\n",
       " 'p_dur_s': {'education': -1.754688634324598,\n",
       "  'leisure': -0.10133282392607657,\n",
       "  'shopping': -1.8063051146265634,\n",
       "  'work': -0.931961594211175,\n",
       "  'home': 0},\n",
       " 'p_dur_l': {'education': -1.1359668508990197,\n",
       "  'leisure': -0.07999379477026375,\n",
       "  'shopping': -0.6829441689456649,\n",
       "  'work': -1.2239963569789003,\n",
       "  'home': 0},\n",
       " 'constants': {'education': 18.662942816414084,\n",
       "  'leisure': 8.74379328420229,\n",
       "  'shopping': 10.504375076121413,\n",
       "  'work': 13.083853092585393,\n",
       "  'home': 0}}"
      ]
     },
     "execution_count": 14,
     "metadata": {},
     "output_type": "execute_result"
    }
   ],
   "source": [
    "parameters = joblib.load(open('data/estimated_params.joblib', 'rb'))\n",
    "\n",
    "parameters"
   ]
  },
  {
   "cell_type": "code",
   "execution_count": 15,
   "metadata": {
    "ExecuteTime": {
     "end_time": "2023-02-23T23:10:30.422908Z",
     "start_time": "2023-02-23T23:10:30.391395Z"
    }
   },
   "outputs": [
    {
     "data": {
      "text/plain": [
       "[{'work': 11.6762011490549,\n",
       "  'education': 6.975776548176073,\n",
       "  'shopping': 22.397494003189262,\n",
       "  'errands_services': 16.050682772849147,\n",
       "  'business_trip': 7.902743100811183,\n",
       "  'leisure': 10.325323962798,\n",
       "  'escort': 21.179635676632593,\n",
       "  'home': 0},\n",
       " {'home': 18.22375831462191,\n",
       "  'work': 9.631452249364287,\n",
       "  'education': 9.233903005842905,\n",
       "  'shopping': 1.0700833642178562,\n",
       "  'errands_services': 0.4393260525957817,\n",
       "  'business_trip': 7.659948298969678,\n",
       "  'leisure': 4.912379624945107,\n",
       "  'escort': 0.6236780651111764}]"
      ]
     },
     "execution_count": 15,
     "metadata": {},
     "output_type": "execute_result"
    }
   ],
   "source": [
    "def draw_preferences():\n",
    "    td = joblib.load(open('data/desired_times_dists.joblib', 'rb'))\n",
    "    desired_st = {at: td[0][at].rvs() for at in td[0].keys()}\n",
    "    desired_dur = {at: td[1][at].rvs() for at in td[1].keys()}\n",
    "\n",
    "    desired_st['home'] = 0\n",
    "\n",
    "    return [desired_st, desired_dur]\n",
    "\n",
    "preferences = draw_preferences()\n",
    "\n",
    "preferences"
   ]
  },
  {
   "cell_type": "code",
   "execution_count": 16,
   "metadata": {
    "ExecuteTime": {
     "end_time": "2023-02-23T23:12:58.631414Z",
     "start_time": "2023-02-23T23:12:27.654551Z"
    },
    "scrolled": false
   },
   "outputs": [
    {
     "name": "stdout",
     "output_type": "stream",
     "text": [
      "Solving time: 29.78 seconds.\n"
     ]
    },
    {
     "data": {
      "image/png": "[encoded data removed]",
      "text/plain": [
       "<Figure size 1440x216 with 1 Axes>"
      ]
     },
     "metadata": {
      "needs_background": "light"
     },
     "output_type": "display_data"
    },
    {
     "data": {
      "image/png": "[encoded data removed]",
      "text/plain": [
       "<Figure size 1440x216 with 1 Axes>"
      ]
     },
     "metadata": {
      "needs_background": "light"
     },
     "output_type": "display_data"
    },
    {
     "data": {
      "image/png": "[encoded data removed]",
      "text/plain": [
       "<Figure size 1440x216 with 1 Axes>"
      ]
     },
     "metadata": {
      "needs_background": "light"
     },
     "output_type": "display_data"
    },
    {
     "data": {
      "image/png": "[encoded data removed]",
      "text/plain": [
       "<Figure size 1440x216 with 1 Axes>"
      ]
     },
     "metadata": {
      "needs_background": "light"
     },
     "output_type": "display_data"
    },
    {
     "data": {
      "image/png": "[encoded data removed]",
      "text/plain": [
       "<Figure size 1440x216 with 1 Axes>"
      ]
     },
     "metadata": {
      "needs_background": "light"
     },
     "output_type": "display_data"
    },
    {
     "data": {
      "image/png": "[encoded data removed]",
      "text/plain": [
       "<Figure size 1440x216 with 1 Axes>"
      ]
     },
     "metadata": {
      "needs_background": "light"
     },
     "output_type": "display_data"
    },
    {
     "data": {
      "image/png": "[encoded data removed]",
      "text/plain": [
       "<Figure size 1440x216 with 1 Axes>"
      ]
     },
     "metadata": {
      "needs_background": "light"
     },
     "output_type": "display_data"
    },
    {
     "data": {
      "image/png": "[encoded data removed]",
      "text/plain": [
       "<Figure size 1440x216 with 1 Axes>"
      ]
     },
     "metadata": {
      "needs_background": "light"
     },
     "output_type": "display_data"
    },
    {
     "data": {
      "image/png": "[encoded data removed]",
      "text/plain": [
       "<Figure size 1440x216 with 1 Axes>"
      ]
     },
     "metadata": {
      "needs_background": "light"
     },
     "output_type": "display_data"
    },
    {
     "data": {
      "image/png": "[encoded data removed]",
      "text/plain": [
       "<Figure size 1440x216 with 1 Axes>"
      ]
     },
     "metadata": {
      "needs_background": "light"
     },
     "output_type": "display_data"
    }
   ],
   "source": [
    "start_time = time.time()\n",
    "n = 100\n",
    "n_iter = 0\n",
    "\n",
    "\n",
    "for i in range(n): \n",
    "    sol, fig, _, _ = optimize_schedule(sched, travel_times,distances, n_iter, plot_every=10, parameters=parameters, preferences=preferences)\n",
    "    n_iter += 1\n",
    "    \n",
    "print(f\"Solving time: {(time.time() - start_time):.2f} seconds.\")"
   ]
  },
  {
   "cell_type": "code",
   "execution_count": 17,
   "metadata": {
    "ExecuteTime": {
     "end_time": "2023-02-23T23:16:19.860063Z",
     "start_time": "2023-02-23T23:16:19.848345Z"
    }
   },
   "outputs": [
    {
     "data": {
      "text/html": [
       "<div>\n",
       "<style scoped>\n",
       "    .dataframe tbody tr th:only-of-type {\n",
       "        vertical-align: middle;\n",
       "    }\n",
       "\n",
       "    .dataframe tbody tr th {\n",
       "        vertical-align: top;\n",
       "    }\n",
       "\n",
       "    .dataframe thead th {\n",
       "        text-align: right;\n",
       "    }\n",
       "</style>\n",
       "<table border=\"1\" class=\"dataframe\">\n",
       "  <thead>\n",
       "    <tr style=\"text-align: right;\">\n",
       "      <th></th>\n",
       "      <th>act_id</th>\n",
       "      <th>label</th>\n",
       "      <th>start_time</th>\n",
       "      <th>end_time</th>\n",
       "      <th>duration</th>\n",
       "      <th>location</th>\n",
       "      <th>mode</th>\n",
       "      <th>travel_time</th>\n",
       "      <th>car_avail</th>\n",
       "    </tr>\n",
       "  </thead>\n",
       "  <tbody>\n",
       "    <tr>\n",
       "      <th>0</th>\n",
       "      <td>1</td>\n",
       "      <td>dawn</td>\n",
       "      <td>0</td>\n",
       "      <td>21</td>\n",
       "      <td>21</td>\n",
       "      <td>(46.5356, 6.60019)</td>\n",
       "      <td>driving</td>\n",
       "      <td>0</td>\n",
       "      <td>1</td>\n",
       "    </tr>\n",
       "    <tr>\n",
       "      <th>1</th>\n",
       "      <td>1</td>\n",
       "      <td>dusk</td>\n",
       "      <td>21</td>\n",
       "      <td>24</td>\n",
       "      <td>3</td>\n",
       "      <td>(46.5356, 6.60019)</td>\n",
       "      <td>driving</td>\n",
       "      <td>0</td>\n",
       "      <td>1</td>\n",
       "    </tr>\n",
       "  </tbody>\n",
       "</table>\n",
       "</div>"
      ],
      "text/plain": [
       "  act_id label start_time end_time duration            location     mode  \\\n",
       "0      1  dawn          0       21       21  (46.5356, 6.60019)  driving   \n",
       "1      1  dusk         21       24        3  (46.5356, 6.60019)  driving   \n",
       "\n",
       "  travel_time  car_avail  \n",
       "0           0          1  \n",
       "1           0          1  "
      ]
     },
     "execution_count": 17,
     "metadata": {},
     "output_type": "execute_result"
    }
   ],
   "source": [
    "sol"
   ]
  },
  {
   "cell_type": "code",
   "execution_count": null,
   "metadata": {},
   "outputs": [],
   "source": []
  }
 ],
 "metadata": {
  "kernelspec": {
   "display_name": "Python 3 (ipykernel)",
   "language": "python",
   "name": "python3"
  },
  "language_info": {
   "codemirror_mode": {
    "name": "ipython",
    "version": 3
   },
   "file_extension": ".py",
   "mimetype": "text/x-python",
   "name": "python",
   "nbconvert_exporter": "python",
   "pygments_lexer": "ipython3",
   "version": "3.7.7"
  },
  "toc": {
   "base_numbering": 1,
   "nav_menu": {},
   "number_sections": true,
   "sideBar": true,
   "skip_h1_title": false,
   "title_cell": "Table of Contents",
   "title_sidebar": "Contents",
   "toc_cell": false,
   "toc_position": {},
   "toc_section_display": true,
   "toc_window_display": false
  },
  "varInspector": {
   "cols": {
    "lenName": 16,
    "lenType": 16,
    "lenVar": 40
   },
   "kernels_config": {
    "python": {
     "delete_cmd_postfix": "",
     "delete_cmd_prefix": "del ",
     "library": "var_list.py",
     "varRefreshCmd": "print(var_dic_list())"
    },
    "r": {
     "delete_cmd_postfix": ") ",
     "delete_cmd_prefix": "rm(",
     "library": "var_list.r",
     "varRefreshCmd": "cat(var_dic_list()) "
    }
   },
   "types_to_exclude": [
    "module",
    "function",
    "builtin_function_or_method",
    "instance",
    "_Feature"
   ],
   "window_display": false
  }
 },
 "nbformat": 4,
 "nbformat_minor": 2
}
